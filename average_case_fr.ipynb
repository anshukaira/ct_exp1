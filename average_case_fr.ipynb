{
 "cells": [
  {
   "cell_type": "code",
   "execution_count": 1,
   "id": "close-species",
   "metadata": {},
   "outputs": [],
   "source": [
    "import face_recognition as fr\n",
    "from os import listdir,makedirs\n",
    "from os.path import isfile, join,splitext\n",
    "from shutil import copy2"
   ]
  },
  {
   "cell_type": "code",
   "execution_count": 20,
   "id": "copyrighted-pearl",
   "metadata": {},
   "outputs": [],
   "source": [
    "train_uri = './Train/'\n",
    "db_uri = \"./Unknown/\"\n",
    "result_uri = \"./Result/AverageAlgo\""
   ]
  },
  {
   "cell_type": "code",
   "execution_count": 21,
   "id": "improved-grocery",
   "metadata": {},
   "outputs": [
    {
     "name": "stdout",
     "output_type": "stream",
     "text": [
      "['Amitab_1.jpg', 'Abhishek_1.jpg', 'random2.jpg', 'random1.jpg', 'Amitab_Abishek_2.jpeg', 'Abhishek_2.jpeg', 'Amitab_3.jpeg', 'Abhishek_0.jpg', 'Amitab_4.jpg', 'Abhishek_3.jpeg', 'Amitab_Abhishek_1.jpg', 'Amitab_0.jpg', 'Amitab_2.jpeg']\n",
      "['Amitab_Abishek_2.jpeg', 'Abhishek_0.jpg', 'Amitab_Abhishek_1.jpg']\n"
     ]
    }
   ],
   "source": [
    "db_files = [f for f in listdir(db_uri) if isfile(join(db_uri, f))]\n",
    "print(db_files)\n",
    "train_files = [f for f in listdir(train_uri) if isfile(join(train_uri, f))]\n",
    "print(train_files)\n",
    "makedirs(result_uri,exist_ok=True)"
   ]
  },
  {
   "cell_type": "code",
   "execution_count": 22,
   "id": "normal-houston",
   "metadata": {},
   "outputs": [
    {
     "name": "stdout",
     "output_type": "stream",
     "text": [
      "5\n"
     ]
    }
   ],
   "source": [
    "train_encodings = []\n",
    "for train_file in train_files:\n",
    "    [name,ext] = splitext(train_file)\n",
    "    if ext != '.jpg' and ext != '.jpeg':\n",
    "        continue\n",
    "    train_image = fr.load_image_file(train_uri + train_file)\n",
    "    train_encodings = train_encodings + fr.face_encodings(train_image)\n",
    "print(len(train_encodings))"
   ]
  },
  {
   "cell_type": "code",
   "execution_count": 5,
   "id": "republican-hartford",
   "metadata": {},
   "outputs": [],
   "source": [
    "threshold = 0.55\n",
    "sec_threshold = 0.5"
   ]
  },
  {
   "cell_type": "code",
   "execution_count": 23,
   "id": "prospective-commissioner",
   "metadata": {},
   "outputs": [
    {
     "name": "stdout",
     "output_type": "stream",
     "text": [
      "\n",
      "File: Amitab_1.jpg\n",
      "5\n",
      "0.6273862887734044\t0\t0\n",
      "0.3684936190775499\t1\t0.3684936190775499\n",
      "0.6539219362527627\t1\t0.3684936190775499\n",
      "0.5944844081561917\t1\t0.3684936190775499\n",
      "0.36409955469359245\t2\t0.7325931737711424\n",
      "Not Accepted\n",
      "\n",
      "File: Abhishek_1.jpg\n",
      "5\n",
      "0.43472858057800434\t1\t0.43472858057800434\n",
      "0.7371092088268612\t1\t0.43472858057800434\n",
      "0.3558380806226096\t2\t0.7905666612006139\n",
      "0.500248584216564\t3\t1.290815245417178\n",
      "0.7330659200291489\t3\t1.290815245417178\n",
      "Accepted\n",
      "\n",
      "File: random2.jpg\n",
      "5\n",
      "0.790608575887675\t0\t0\n",
      "0.7745384290556266\t0\t0\n",
      "0.7350559903186095\t0\t0\n",
      "0.8010522821467158\t0\t0\n",
      "0.7843460360789012\t0\t0\n",
      "Not Accepted\n",
      "\n",
      "File: random1.jpg\n",
      "5\n",
      "0.7177726369528494\t0\t0\n",
      "0.8388887026946703\t0\t0\n",
      "0.7205406902070491\t0\t0\n",
      "0.7922776813078702\t0\t0\n",
      "0.7843798009427437\t0\t0\n",
      "Not Accepted\n",
      "\n",
      "File: Amitab_Abishek_2.jpeg\n",
      "5\n",
      "0.0\t1\t0.0\n",
      "0.6305549441212528\t1\t0.0\n",
      "0.40048221361910463\t2\t0.40048221361910463\n",
      "0.29531088024195007\t3\t0.6957930938610547\n",
      "0.6549146352607673\t3\t0.6957930938610547\n",
      "Accepted\n",
      "\n",
      "File: Abhishek_2.jpeg\n",
      "5\n",
      "0.4991912762447628\t1\t0.4991912762447628\n",
      "0.6060158516365425\t1\t0.4991912762447628\n",
      "0.4851949045107203\t2\t0.984386180755483\n",
      "0.4424536396420373\t3\t1.4268398203975203\n",
      "0.6605384868706117\t3\t1.4268398203975203\n",
      "Accepted\n",
      "\n",
      "File: Amitab_3.jpeg\n",
      "5\n",
      "0.6858316381010959\t0\t0\n",
      "0.40925273450265925\t1\t0.40925273450265925\n",
      "0.7014373906407342\t1\t0.40925273450265925\n",
      "0.6728823616544279\t1\t0.40925273450265925\n",
      "0.3964843735211831\t2\t0.8057371080238424\n",
      "Not Accepted\n",
      "\n",
      "File: Abhishek_0.jpg\n",
      "5\n",
      "0.40048221361910463\t1\t0.40048221361910463\n",
      "0.7007508013541185\t1\t0.40048221361910463\n",
      "0.0\t2\t0.40048221361910463\n",
      "0.40043706219273634\t3\t0.800919275811841\n",
      "0.7102883397026784\t3\t0.800919275811841\n",
      "Accepted\n",
      "\n",
      "File: Amitab_4.jpg\n",
      "5\n",
      "0.5114550466523288\t1\t0.5114550466523288\n",
      "0.49868645367757275\t2\t1.0101415003299015\n",
      "0.5726309716583542\t2\t1.0101415003299015\n",
      "0.5334257181354376\t3\t1.543567218465339\n",
      "0.4877739439777188\t4\t2.031341162443058\n",
      "Not Accepted\n",
      "\n",
      "File: Abhishek_3.jpeg\n",
      "5\n",
      "0.45696164413111107\t1\t0.45696164413111107\n",
      "0.6354516010871366\t1\t0.45696164413111107\n",
      "0.4400956915349209\t2\t0.897057335666032\n",
      "0.41178502333293565\t3\t1.3088423589989677\n",
      "0.6854382399604186\t3\t1.3088423589989677\n",
      "Accepted\n",
      "\n",
      "File: Amitab_Abhishek_1.jpg\n",
      "5\n",
      "0.29531088024195007\t1\t0.29531088024195007\n",
      "0.5996007635092961\t1\t0.29531088024195007\n",
      "0.40043706219273634\t2\t0.6957479424346864\n",
      "0.0\t3\t0.6957479424346864\n",
      "0.6510557707016608\t3\t0.6957479424346864\n",
      "Accepted\n",
      "\n",
      "File: Amitab_0.jpg\n",
      "5\n",
      "0.6211605663869568\t0\t0\n",
      "0.3879354114881723\t1\t0.3879354114881723\n",
      "0.6554856500929486\t1\t0.3879354114881723\n",
      "0.6043985202644242\t1\t0.3879354114881723\n",
      "0.35447454564066283\t2\t0.7424099571288352\n",
      "Not Accepted\n",
      "\n",
      "File: Amitab_2.jpeg\n",
      "5\n",
      "0.6837778711750789\t0\t0\n",
      "0.3869143731961969\t1\t0.3869143731961969\n",
      "0.6945778964839515\t1\t0.3869143731961969\n",
      "0.6362074287562558\t1\t0.3869143731961969\n",
      "0.4161213425062629\t2\t0.8030357157024599\n",
      "Not Accepted\n",
      "DONE\n"
     ]
    }
   ],
   "source": [
    "for db_file in db_files:\n",
    "    [name,ext] = splitext(db_file)\n",
    "    if ext != '.jpg' and ext != '.jpeg':\n",
    "        continue\n",
    "    print(\"\\nFile: \" + db_file)\n",
    "    db_image = fr.load_image_file(db_uri + db_file)\n",
    "    db_encodings = fr.face_encodings(db_image)\n",
    "    for db_encoding in db_encodings:\n",
    "        results = fr.face_distance(train_encodings,db_encoding)\n",
    "        print(len(results))\n",
    "        count = 0\n",
    "        cumulative_threshold = 0\n",
    "        for result in results:\n",
    "            if result < threshold:\n",
    "                count = count + 1\n",
    "                cumulative_threshold = cumulative_threshold + result\n",
    "            print(result, end=\"\\t\")\n",
    "            print(count, end=\"\\t\")\n",
    "            print(cumulative_threshold)\n",
    "        if cumulative_threshold <= sec_threshold * len(train_files) and count >= len(train_files):\n",
    "            copy2(db_uri + db_file, result_uri)\n",
    "            print(\"Accepted\")\n",
    "            break\n",
    "        else:\n",
    "            print(\"Not Accepted\")\n",
    "print(\"DONE\")        "
   ]
  }
 ],
 "metadata": {
  "kernelspec": {
   "display_name": "Python 3",
   "language": "python",
   "name": "python3"
  },
  "language_info": {
   "codemirror_mode": {
    "name": "ipython",
    "version": 3
   },
   "file_extension": ".py",
   "mimetype": "text/x-python",
   "name": "python",
   "nbconvert_exporter": "python",
   "pygments_lexer": "ipython3",
   "version": "3.7.10"
  }
 },
 "nbformat": 4,
 "nbformat_minor": 5
}
